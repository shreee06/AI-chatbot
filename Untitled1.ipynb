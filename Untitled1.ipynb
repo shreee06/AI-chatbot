{
  "nbformat": 4,
  "nbformat_minor": 0,
  "metadata": {
    "colab": {
      "provenance": []
    },
    "kernelspec": {
      "name": "python3",
      "display_name": "Python 3"
    },
    "language_info": {
      "name": "python"
    }
  },
  "cells": [
    {
      "cell_type": "code",
      "source": [
        "!pip install tensorflow\n",
        "\n",
        "\n"
      ],
      "metadata": {
        "colab": {
          "base_uri": "https://localhost:8080/"
        },
        "id": "78Urfydk8kB4",
        "outputId": "215ad4c7-787a-4607-cb03-753d963fbf1e"
      },
      "execution_count": 15,
      "outputs": [
        {
          "output_type": "stream",
          "name": "stdout",
          "text": [
            "Requirement already satisfied: scikit-learn in /usr/local/lib/python3.10/dist-packages (1.2.2)\n",
            "Requirement already satisfied: numpy>=1.17.3 in /usr/local/lib/python3.10/dist-packages (from scikit-learn) (1.22.4)\n",
            "Requirement already satisfied: scipy>=1.3.2 in /usr/local/lib/python3.10/dist-packages (from scikit-learn) (1.10.1)\n",
            "Requirement already satisfied: joblib>=1.1.1 in /usr/local/lib/python3.10/dist-packages (from scikit-learn) (1.2.0)\n",
            "Requirement already satisfied: threadpoolctl>=2.0.0 in /usr/local/lib/python3.10/dist-packages (from scikit-learn) (3.1.0)\n"
          ]
        }
      ]
    },
    {
      "cell_type": "code",
      "source": [
        "import tensorflow as tf\n",
        "import numpy as np\n",
        "\n",
        "# Define training data\n",
        "questions = [\"What is your name?\", \"How are you?\", \"What are you doing?\"]\n",
        "answers = [\"My name is Chatbot.\", \"I'm fine, thank you.\", \"I'm chatting with you.\"]\n",
        "\n",
        "# Tokenize the training data\n",
        "tokenizer = tf.keras.preprocessing.text.Tokenizer()\n",
        "tokenizer.fit_on_texts(questions + answers)\n",
        "question_sequences = tokenizer.texts_to_sequences(questions)\n",
        "answer_sequences = tokenizer.texts_to_sequences(answers)\n",
        "\n",
        "# Pad the sequences to ensure consistent length\n",
        "max_sequence_length = max(map(len, question_sequences + answer_sequences))\n",
        "question_sequences = tf.keras.preprocessing.sequence.pad_sequences(question_sequences, maxlen=max_sequence_length)\n",
        "answer_sequences = tf.keras.preprocessing.sequence.pad_sequences(answer_sequences, maxlen=max_sequence_length)\n",
        "\n",
        "# Define the chatbot model\n",
        "model = tf.keras.Sequential([\n",
        "    tf.keras.layers.Embedding(len(tokenizer.word_index) + 1, 128, input_length=max_sequence_length),\n",
        "    tf.keras.layers.Bidirectional(tf.keras.layers.GRU(128, return_sequences=True)),\n",
        "    tf.keras.layers.Bidirectional(tf.keras.layers.GRU(128)),\n",
        "    tf.keras.layers.Dense(len(tokenizer.word_index) + 1, activation=\"softmax\")\n",
        "])\n",
        "\n",
        "# Compile the model\n",
        "model.compile(loss=\"sparse_categorical_crossentropy\", optimizer=\"adam\", metrics=[\"accuracy\"])\n",
        "\n",
        "# Train the model\n",
        "model.fit(question_sequences, np.argmax(answer_sequences, axis=-1), epochs=10)\n",
        "\n",
        "# Start a conversation with the chatbot\n",
        "while True:\n",
        "    user_input = input(\"You: \")\n",
        "\n",
        "    # Preprocess the user input\n",
        "    user_sequence = tokenizer.texts_to_sequences([user_input])\n",
        "    user_sequence = tf.keras.preprocessing.sequence.pad_sequences(user_sequence, maxlen=max_sequence_length)\n",
        "\n",
        "    # Get the predicted response from the chatbot model\n",
        "    predicted_sequence = model.predict(user_sequence)\n",
        "    predicted_indices = np.argsort(predicted_sequence[0])[-3:][::-1]  # Get top 3 predicted indices\n",
        "    bot_responses = [tokenizer.index_word.get(idx, \"\") for idx in predicted_indices if idx != 0]\n",
        "\n",
        "    print(\"ChatBot:\")\n",
        "    for response in bot_responses:\n",
        "        print(response)\n"
      ],
      "metadata": {
        "colab": {
          "base_uri": "https://localhost:8080/"
        },
        "id": "o2_ruIW0CKIX",
        "outputId": "7cd63049-63ca-4170-ae47-0b39847a1e82"
      },
      "execution_count": null,
      "outputs": [
        {
          "metadata": {
            "tags": null
          },
          "name": "stdout",
          "output_type": "stream",
          "text": [
            "Epoch 1/10\n",
            "1/1 [==============================] - 9s 9s/step - loss: 2.7609 - accuracy: 0.0000e+00\n",
            "Epoch 2/10\n",
            "1/1 [==============================] - 0s 31ms/step - loss: 2.6789 - accuracy: 1.0000\n",
            "Epoch 3/10\n",
            "1/1 [==============================] - 0s 33ms/step - loss: 2.5912 - accuracy: 1.0000\n",
            "Epoch 4/10\n",
            "1/1 [==============================] - 0s 31ms/step - loss: 2.4906 - accuracy: 1.0000\n",
            "Epoch 5/10\n",
            "1/1 [==============================] - 0s 39ms/step - loss: 2.3710 - accuracy: 1.0000\n",
            "Epoch 6/10\n",
            "1/1 [==============================] - 0s 30ms/step - loss: 2.2261 - accuracy: 1.0000\n",
            "Epoch 7/10\n",
            "1/1 [==============================] - 0s 35ms/step - loss: 2.0502 - accuracy: 1.0000\n",
            "Epoch 8/10\n",
            "1/1 [==============================] - 0s 29ms/step - loss: 1.8377 - accuracy: 1.0000\n",
            "Epoch 9/10\n",
            "1/1 [==============================] - 0s 30ms/step - loss: 1.5857 - accuracy: 1.0000\n",
            "Epoch 10/10\n",
            "1/1 [==============================] - 0s 31ms/step - loss: 1.2975 - accuracy: 1.0000\n",
            "1/1 [==============================] - 1s 1s/step\n",
            "ChatBot:\n",
            "what\n",
            "is\n",
            "fine\n",
            "1/1 [==============================] - 0s 25ms/step\n",
            "ChatBot:\n",
            "what\n",
            "is\n",
            "fine\n",
            "1/1 [==============================] - 0s 27ms/step\n",
            "ChatBot:\n",
            "what\n",
            "is\n",
            "fine\n",
            "1/1 [==============================] - 0s 25ms/step\n",
            "ChatBot:\n",
            "what\n",
            "is\n",
            "fine\n",
            "1/1 [==============================] - 0s 24ms/step\n",
            "ChatBot:\n",
            "what\n",
            "is\n",
            "fine\n"
          ]
        }
      ]
    }
  ]
}